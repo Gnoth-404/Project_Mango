{
  "nbformat": 4,
  "nbformat_minor": 0,
  "metadata": {
    "colab": {
      "name": "SpectrumClassificationFramework.ipynb",
      "version": "0.3.2",
      "provenance": []
    },
    "kernelspec": {
      "name": "python3",
      "display_name": "Python 3"
    }
  },
  "cells": [
    {
      "cell_type": "code",
      "metadata": {
        "id": "peRFo-Dk1M8S",
        "colab_type": "code",
        "colab": {
          "resources": {
            "http://localhost:8080/nbextensions/google.colab/files.js": {
              "data": "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",
              "ok": true,
              "headers": [
                [
                  "content-type",
                  "application/javascript"
                ]
              ],
              "status": 200,
              "status_text": ""
            }
          },
          "base_uri": "https://localhost:8080/",
          "height": 71
        },
        "outputId": "bcd97bc1-24f4-4d8b-fc91-6275b9e65aad"
      },
      "source": [
        "from google.colab import files\n",
        "\n",
        "a = files.upload()"
      ],
      "execution_count": 136,
      "outputs": [
        {
          "output_type": "display_data",
          "data": {
            "text/html": [
              "\n",
              "     <input type=\"file\" id=\"files-1e523815-0946-488d-9254-bee2b5bb5137\" name=\"files[]\" multiple disabled />\n",
              "     <output id=\"result-1e523815-0946-488d-9254-bee2b5bb5137\">\n",
              "      Upload widget is only available when the cell has been executed in the\n",
              "      current browser session. Please rerun this cell to enable.\n",
              "      </output>\n",
              "      <script src=\"/nbextensions/google.colab/files.js\"></script> "
            ],
            "text/plain": [
              "<IPython.core.display.HTML object>"
            ]
          },
          "metadata": {
            "tags": []
          }
        },
        {
          "output_type": "stream",
          "text": [
            "Saving data.csv to data.csv\n"
          ],
          "name": "stdout"
        }
      ]
    },
    {
      "cell_type": "code",
      "metadata": {
        "id": "ZtIoROz-2KcN",
        "colab_type": "code",
        "colab": {
          "base_uri": "https://localhost:8080/",
          "height": 1000
        },
        "outputId": "3528070e-f3fe-4a1d-a227-4496f9069b60"
      },
      "source": [
        "import tensorflow as tf\n",
        "from sklearn.decomposition import PCA\n",
        "import pandas as pd\n",
        "import numpy as np\n",
        "import os\n",
        "import matplotlib\n",
        "import matplotlib.pyplot as plt\n",
        "from numpy import diff\n",
        "import random\n",
        "%matplotlib inline\n",
        "import shutil\n",
        "import tensorflow.contrib.learn as tflearn\n",
        "import tensorflow.contrib.layers as tflayers\n",
        "from tensorflow.contrib.learn.python.learn import learn_runner\n",
        "import tensorflow.contrib.metrics as metrics\n",
        "import tensorflow.contrib.rnn as rnn\n",
        "from sklearn.model_selection import train_test_split\n",
        "!git clone https://github.com/EBjerrum/Deep-Chemometrics.git\n",
        "  \n",
        "def dataaugment(x, betashift = 0.05, slopeshift = 0.05,multishift = 0.05):\n",
        "    #Shift of baseline\n",
        "    #calculate arrays\n",
        "    beta = np.random.random(size=(x.shape[0],1))*2*betashift-betashift\n",
        "    slope = np.random.random(size=(x.shape[0],1))*2*slopeshift-slopeshift + 1\n",
        "    #Calculate relative position\n",
        "    axis = np.array(range(x.shape[1]))/float(x.shape[1])\n",
        "    #Calculate offset to be added\n",
        "    offset = slope*(axis) + beta - axis - slope/2. + 0.5\n",
        "\n",
        "    #Multiplicative\n",
        "    multi = np.random.random(size=(x.shape[0],1))*2*multishift-multishift + 1\n",
        "\n",
        "    x = multi*x + offset\n",
        "\n",
        "    return x\n",
        "  \n",
        "data = pd.read_csv('data.csv')\n",
        "spectrums= np.array(data.values[:, 0:288],dtype = np.int32)\n",
        "labels = data.iloc[:, 288].unique()\n",
        "categories= data.iloc[:, 288].apply(lambda name: np.squeeze(np.where(labels == name))).values\n",
        "portion = int(4/5 *spectrums.shape[0])\n",
        "#Split train and test set\n",
        "x_train, x_test, y_train,y_test = train_test_split(spectrums[:portion],categories[:portion],test_size=0.2,random_state=42)\n",
        "\n",
        "x_check = spectrums[portion:]\n",
        "y_check = categories[portion:]\n",
        "\n",
        "%cd Deep-Chemometrics\n",
        "\n",
        "from ChemUtils import GlobalStandardScaler\n",
        "\n",
        "xscaler = GlobalStandardScaler()\n",
        "x_train = xscaler.fit_transform(x_train) \n",
        "x_test = xscaler.transform(x_test) \n",
        "x_check = xscaler.transform(x_check)\n",
        "\n",
        "yscaler = GlobalStandardScaler()\n",
        "y_train = yscaler.fit_transform(y_train)\n",
        "y_test = yscaler.transform(y_test)\n",
        "y_check = yscaler.transform(y_check)\n",
        "\n",
        "#EMSC rescaling\n",
        "from ChemUtils import EmscScaler\n",
        "emsc = EmscScaler()\n",
        "emsc.fit(x_train)\n",
        "X_train_emsc = emsc.transform((x_train))\n",
        "X_test_emsc = emsc.transform(x_test)\n",
        "X_check_emsc = emsc.transform(x_check)\n",
        "\n",
        "#Data Augment a single spectrum\n",
        "\n",
        "#First Spectrum\n",
        "X = x_test[0:1]\n",
        "#Repeating the spectrum 10x\n",
        "X = np.repeat(X, repeats=10, axis=0)\n",
        "#Augment (Large pertubations for illustration)\n",
        "X_aug = dataaugment(X,betashift = 0.5, slopeshift = 0.5,multishift = 0.5)\n",
        "shift = np.std(x_train)*0.1\n",
        "X_train_aug = np.repeat(X_train_emsc, repeats=1000, axis=0)\n",
        "X_train_aug = dataaugment(X_train_aug, betashift = shift, slopeshift = 0.05, multishift = shift)\n",
        "y_train_aug = np.repeat(y_train, repeats=1000, axis=0) #y_train is simply repeated\n",
        "\n",
        "shift = np.std(x_test)*0.1\n",
        "X_test_aug = np.repeat(X_test_emsc, repeats=5000, axis=0)\n",
        "X_test_aug = dataaugment(X_test_aug, betashift = shift, slopeshift = 0.05, multishift = shift)\n",
        "y_test_aug = np.repeat(y_test, repeats=5000, axis=0) #y_test is simply repeated\n",
        "\n",
        "\n",
        "import keras\n",
        "from keras.models import Sequential\n",
        "from keras.layers import Dense, Dropout, Flatten\n",
        "from keras.layers import Conv1D, Reshape, GaussianNoise, MaxPooling1D\n",
        "from keras.callbacks import ReduceLROnPlateau\n",
        "\n",
        "\n",
        "input_dim = x_train.shape[1]\n",
        "\n",
        "#The model\n",
        "def make_model():\n",
        "    model = Sequential()\n",
        "    model.add(Dense(128, activation='relu', input_dim= input_dim))\n",
        "    model.add(Dense(128, activation='relu'))\n",
        "    model.add(Dense(labels.size, activation='softmax'))\n",
        "\n",
        "    model.compile(optimizer='adam', loss='categorical_crossentropy', metrics=['accuracy'])\n",
        "\n",
        "    return model\n",
        "  \n",
        "model = make_model()\n",
        "y_train_aug = keras.utils.to_categorical(y_train_aug, labels.size)\n",
        "y_test_aug = keras.utils.to_categorical(y_test_aug, labels.size)\n",
        "\n",
        "h = model.fit(X_train_aug, y_train_aug, epochs=50, batch_size=1024, validation_data=(X_test_aug, y_test_aug))\n",
        "\n",
        "# # serialize model to JSON\n",
        "# model_json = model.to_json()\n",
        "# with open(\"model.json\", \"w\") as json_file:\n",
        "#     json_file.write(model_json)\n",
        "# # serialize weights to HDF5\n",
        "# model.save_weights(\"model.h5\")\n",
        "# files.download('model.h5') \n",
        "# files.download('model.json') \n",
        "\n"
      ],
      "execution_count": 137,
      "outputs": [
        {
          "output_type": "stream",
          "text": [
            "Cloning into 'Deep-Chemometrics'...\n",
            "remote: Enumerating objects: 43, done.\u001b[K\n",
            "remote: Total 43 (delta 0), reused 0 (delta 0), pack-reused 43\u001b[K\n",
            "Unpacking objects: 100% (43/43), done.\n",
            "/content/Deep-Chemometrics/Deep-Chemometrics/Deep-Chemometrics/Deep-Chemometrics/Deep-Chemometrics/Deep-Chemometrics/Deep-Chemometrics/Deep-Chemometrics/Deep-Chemometrics/Deep-Chemometrics/Deep-Chemometrics/Deep-Chemometrics/Deep-Chemometrics\n",
            "Train on 30000 samples, validate on 40000 samples\n",
            "Epoch 1/50\n",
            "30000/30000 [==============================] - 1s 46us/step - loss: 0.2031 - acc: 0.9714 - val_loss: 0.0063 - val_acc: 1.0000\n",
            "Epoch 2/50\n",
            "30000/30000 [==============================] - 1s 18us/step - loss: 0.0031 - acc: 1.0000 - val_loss: 0.0011 - val_acc: 1.0000\n",
            "Epoch 3/50\n",
            "30000/30000 [==============================] - 1s 18us/step - loss: 0.0011 - acc: 1.0000 - val_loss: 6.6386e-04 - val_acc: 1.0000\n",
            "Epoch 4/50\n",
            "30000/30000 [==============================] - 1s 18us/step - loss: 6.9509e-04 - acc: 1.0000 - val_loss: 4.5818e-04 - val_acc: 1.0000\n",
            "Epoch 5/50\n",
            "30000/30000 [==============================] - 1s 17us/step - loss: 4.9550e-04 - acc: 1.0000 - val_loss: 3.3155e-04 - val_acc: 1.0000\n",
            "Epoch 6/50\n",
            "30000/30000 [==============================] - 1s 18us/step - loss: 3.6508e-04 - acc: 1.0000 - val_loss: 2.4718e-04 - val_acc: 1.0000\n",
            "Epoch 7/50\n",
            "30000/30000 [==============================] - 1s 19us/step - loss: 2.7523e-04 - acc: 1.0000 - val_loss: 1.8805e-04 - val_acc: 1.0000\n",
            "Epoch 8/50\n",
            "30000/30000 [==============================] - 1s 19us/step - loss: 2.1154e-04 - acc: 1.0000 - val_loss: 1.4635e-04 - val_acc: 1.0000\n",
            "Epoch 9/50\n",
            "30000/30000 [==============================] - 1s 18us/step - loss: 1.6600e-04 - acc: 1.0000 - val_loss: 1.1647e-04 - val_acc: 1.0000\n",
            "Epoch 10/50\n",
            "30000/30000 [==============================] - 1s 18us/step - loss: 1.3331e-04 - acc: 1.0000 - val_loss: 9.4799e-05 - val_acc: 1.0000\n",
            "Epoch 11/50\n",
            "30000/30000 [==============================] - 1s 18us/step - loss: 1.0930e-04 - acc: 1.0000 - val_loss: 7.8754e-05 - val_acc: 1.0000\n",
            "Epoch 12/50\n",
            "30000/30000 [==============================] - 1s 18us/step - loss: 9.1201e-05 - acc: 1.0000 - val_loss: 6.6320e-05 - val_acc: 1.0000\n",
            "Epoch 13/50\n",
            "30000/30000 [==============================] - 1s 19us/step - loss: 7.7171e-05 - acc: 1.0000 - val_loss: 5.6605e-05 - val_acc: 1.0000\n",
            "Epoch 14/50\n",
            "30000/30000 [==============================] - 1s 19us/step - loss: 6.6103e-05 - acc: 1.0000 - val_loss: 4.8812e-05 - val_acc: 1.0000\n",
            "Epoch 15/50\n",
            "30000/30000 [==============================] - 1s 19us/step - loss: 5.7253e-05 - acc: 1.0000 - val_loss: 4.2517e-05 - val_acc: 1.0000\n",
            "Epoch 16/50\n",
            "30000/30000 [==============================] - 1s 18us/step - loss: 5.0046e-05 - acc: 1.0000 - val_loss: 3.7381e-05 - val_acc: 1.0000\n",
            "Epoch 17/50\n",
            "30000/30000 [==============================] - 1s 18us/step - loss: 4.4123e-05 - acc: 1.0000 - val_loss: 3.3131e-05 - val_acc: 1.0000\n",
            "Epoch 18/50\n",
            "30000/30000 [==============================] - 1s 18us/step - loss: 3.9189e-05 - acc: 1.0000 - val_loss: 2.9519e-05 - val_acc: 1.0000\n",
            "Epoch 19/50\n",
            "30000/30000 [==============================] - 1s 19us/step - loss: 3.5045e-05 - acc: 1.0000 - val_loss: 2.6499e-05 - val_acc: 1.0000\n",
            "Epoch 20/50\n",
            "30000/30000 [==============================] - 1s 18us/step - loss: 3.1520e-05 - acc: 1.0000 - val_loss: 2.3927e-05 - val_acc: 1.0000\n",
            "Epoch 21/50\n",
            "30000/30000 [==============================] - 1s 18us/step - loss: 2.8506e-05 - acc: 1.0000 - val_loss: 2.1670e-05 - val_acc: 1.0000\n",
            "Epoch 22/50\n",
            "30000/30000 [==============================] - 1s 18us/step - loss: 2.5903e-05 - acc: 1.0000 - val_loss: 1.9754e-05 - val_acc: 1.0000\n",
            "Epoch 23/50\n",
            "30000/30000 [==============================] - 1s 18us/step - loss: 2.3643e-05 - acc: 1.0000 - val_loss: 1.8072e-05 - val_acc: 1.0000\n",
            "Epoch 24/50\n",
            "30000/30000 [==============================] - 1s 19us/step - loss: 2.1667e-05 - acc: 1.0000 - val_loss: 1.6594e-05 - val_acc: 1.0000\n",
            "Epoch 25/50\n",
            "30000/30000 [==============================] - 1s 18us/step - loss: 1.9923e-05 - acc: 1.0000 - val_loss: 1.5271e-05 - val_acc: 1.0000\n",
            "Epoch 26/50\n",
            "30000/30000 [==============================] - 1s 18us/step - loss: 1.8383e-05 - acc: 1.0000 - val_loss: 1.4104e-05 - val_acc: 1.0000\n",
            "Epoch 27/50\n",
            "30000/30000 [==============================] - 1s 18us/step - loss: 1.7010e-05 - acc: 1.0000 - val_loss: 1.3074e-05 - val_acc: 1.0000\n",
            "Epoch 28/50\n",
            "30000/30000 [==============================] - 1s 18us/step - loss: 1.5786e-05 - acc: 1.0000 - val_loss: 1.2144e-05 - val_acc: 1.0000\n",
            "Epoch 29/50\n",
            "30000/30000 [==============================] - 1s 18us/step - loss: 1.4690e-05 - acc: 1.0000 - val_loss: 1.1307e-05 - val_acc: 1.0000\n",
            "Epoch 30/50\n",
            "30000/30000 [==============================] - 1s 18us/step - loss: 1.3702e-05 - acc: 1.0000 - val_loss: 1.0561e-05 - val_acc: 1.0000\n",
            "Epoch 31/50\n",
            "30000/30000 [==============================] - 1s 17us/step - loss: 1.2806e-05 - acc: 1.0000 - val_loss: 9.8831e-06 - val_acc: 1.0000\n",
            "Epoch 32/50\n",
            "30000/30000 [==============================] - 1s 19us/step - loss: 1.1996e-05 - acc: 1.0000 - val_loss: 9.2722e-06 - val_acc: 1.0000\n",
            "Epoch 33/50\n",
            "30000/30000 [==============================] - 1s 17us/step - loss: 1.1259e-05 - acc: 1.0000 - val_loss: 8.7070e-06 - val_acc: 1.0000\n",
            "Epoch 34/50\n",
            "30000/30000 [==============================] - 1s 18us/step - loss: 1.0586e-05 - acc: 1.0000 - val_loss: 8.1976e-06 - val_acc: 1.0000\n",
            "Epoch 35/50\n",
            "30000/30000 [==============================] - 1s 18us/step - loss: 9.9713e-06 - acc: 1.0000 - val_loss: 7.7258e-06 - val_acc: 1.0000\n",
            "Epoch 36/50\n",
            "30000/30000 [==============================] - 1s 18us/step - loss: 9.4074e-06 - acc: 1.0000 - val_loss: 7.2930e-06 - val_acc: 1.0000\n",
            "Epoch 37/50\n",
            "30000/30000 [==============================] - 1s 18us/step - loss: 8.8881e-06 - acc: 1.0000 - val_loss: 6.8954e-06 - val_acc: 1.0000\n",
            "Epoch 38/50\n",
            "30000/30000 [==============================] - 1s 18us/step - loss: 8.4095e-06 - acc: 1.0000 - val_loss: 6.5302e-06 - val_acc: 1.0000\n",
            "Epoch 39/50\n",
            "30000/30000 [==============================] - 1s 18us/step - loss: 7.9672e-06 - acc: 1.0000 - val_loss: 6.1888e-06 - val_acc: 1.0000\n",
            "Epoch 40/50\n",
            "30000/30000 [==============================] - 1s 18us/step - loss: 7.5577e-06 - acc: 1.0000 - val_loss: 5.8776e-06 - val_acc: 1.0000\n",
            "Epoch 41/50\n",
            "30000/30000 [==============================] - 1s 18us/step - loss: 7.1776e-06 - acc: 1.0000 - val_loss: 5.5850e-06 - val_acc: 1.0000\n",
            "Epoch 42/50\n",
            "30000/30000 [==============================] - 1s 18us/step - loss: 6.8250e-06 - acc: 1.0000 - val_loss: 5.3155e-06 - val_acc: 1.0000\n",
            "Epoch 43/50\n",
            "30000/30000 [==============================] - 1s 18us/step - loss: 6.4972e-06 - acc: 1.0000 - val_loss: 5.0613e-06 - val_acc: 1.0000\n",
            "Epoch 44/50\n",
            "30000/30000 [==============================] - 1s 18us/step - loss: 6.1921e-06 - acc: 1.0000 - val_loss: 4.8266e-06 - val_acc: 1.0000\n",
            "Epoch 45/50\n",
            "30000/30000 [==============================] - 1s 18us/step - loss: 5.9060e-06 - acc: 1.0000 - val_loss: 4.6057e-06 - val_acc: 1.0000\n",
            "Epoch 46/50\n",
            "30000/30000 [==============================] - 1s 18us/step - loss: 5.6381e-06 - acc: 1.0000 - val_loss: 4.4007e-06 - val_acc: 1.0000\n",
            "Epoch 47/50\n",
            "30000/30000 [==============================] - 1s 18us/step - loss: 5.3880e-06 - acc: 1.0000 - val_loss: 4.2057e-06 - val_acc: 1.0000\n",
            "Epoch 48/50\n",
            "30000/30000 [==============================] - 1s 18us/step - loss: 5.1530e-06 - acc: 1.0000 - val_loss: 4.0257e-06 - val_acc: 1.0000\n",
            "Epoch 49/50\n",
            "30000/30000 [==============================] - 1s 18us/step - loss: 4.9324e-06 - acc: 1.0000 - val_loss: 3.8546e-06 - val_acc: 1.0000\n",
            "Epoch 50/50\n",
            "30000/30000 [==============================] - 1s 18us/step - loss: 4.7251e-06 - acc: 1.0000 - val_loss: 3.6949e-06 - val_acc: 1.0000\n"
          ],
          "name": "stdout"
        }
      ]
    },
    {
      "cell_type": "code",
      "metadata": {
        "id": "FcdGK-9c9Ydx",
        "colab_type": "code",
        "colab": {
          "base_uri": "https://localhost:8080/",
          "height": 51
        },
        "outputId": "3fe6e215-1c15-4ab1-a197-b996199b691b"
      },
      "source": [
        "xscaler = GlobalStandardScaler()\n",
        "x = xscaler.fit_transform(spectrums) \n",
        "emsc = EmscScaler()\n",
        "emsc.fit(x)\n",
        "d = emsc.transform(xscaler.transform(spectrums[15]).reshape(1, 288))\n",
        "print(d.shape)\n",
        "a = model.predict(d)\n",
        "index = np.argmax(a)\n",
        "if (index == labels.size - 1):\n",
        "  index = -1\n",
        "print(labels[index + 1])"
      ],
      "execution_count": 144,
      "outputs": [
        {
          "output_type": "stream",
          "text": [
            "(1, 288)\n",
            "White\n"
          ],
          "name": "stdout"
        }
      ]
    },
    {
      "cell_type": "code",
      "metadata": {
        "id": "-4hCtH4SNzz4",
        "colab_type": "code",
        "colab": {}
      },
      "source": [
        ""
      ],
      "execution_count": 0,
      "outputs": []
    }
  ]
}